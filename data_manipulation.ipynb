{
 "cells": [
  {
   "cell_type": "markdown",
   "source": [
    "**1. Importei as bibliotecas necessárias.**"
   ],
   "metadata": {
    "collapsed": false
   }
  },
  {
   "cell_type": "code",
   "execution_count": 12,
   "outputs": [],
   "source": [
    "import pandas as pd\n",
    "import numpy as np"
   ],
   "metadata": {
    "collapsed": false,
    "ExecuteTime": {
     "end_time": "2023-07-10T19:27:55.418132600Z",
     "start_time": "2023-07-10T19:27:55.407697800Z"
    }
   }
  },
  {
   "cell_type": "markdown",
   "source": [
    "**2. Importei os dados.**"
   ],
   "metadata": {
    "collapsed": false
   }
  },
  {
   "cell_type": "code",
   "execution_count": 13,
   "outputs": [
    {
     "data": {
      "text/plain": "    N   P   K  temperature   humidity        ph    rainfall label\n0  90  42  43    20.879744  82.002744  6.502985  202.935536  rice\n1  85  58  41    21.770462  80.319644  7.038096  226.655537  rice\n2  60  55  44    23.004459  82.320763  7.840207  263.964248  rice\n3  74  35  40    26.491096  80.158363  6.980401  242.864034  rice\n4  78  42  42    20.130175  81.604873  7.628473  262.717340  rice\n5  69  37  42    23.058049  83.370118  7.073454  251.055000  rice\n6  69  55  38    22.708838  82.639414  5.700806  271.324860  rice\n7  94  53  40    20.277744  82.894086  5.718627  241.974195  rice\n8  89  54  38    24.515881  83.535216  6.685346  230.446236  rice\n9  68  58  38    23.223974  83.033227  6.336254  221.209196  rice",
      "text/html": "<div>\n<style scoped>\n    .dataframe tbody tr th:only-of-type {\n        vertical-align: middle;\n    }\n\n    .dataframe tbody tr th {\n        vertical-align: top;\n    }\n\n    .dataframe thead th {\n        text-align: right;\n    }\n</style>\n<table border=\"1\" class=\"dataframe\">\n  <thead>\n    <tr style=\"text-align: right;\">\n      <th></th>\n      <th>N</th>\n      <th>P</th>\n      <th>K</th>\n      <th>temperature</th>\n      <th>humidity</th>\n      <th>ph</th>\n      <th>rainfall</th>\n      <th>label</th>\n    </tr>\n  </thead>\n  <tbody>\n    <tr>\n      <th>0</th>\n      <td>90</td>\n      <td>42</td>\n      <td>43</td>\n      <td>20.879744</td>\n      <td>82.002744</td>\n      <td>6.502985</td>\n      <td>202.935536</td>\n      <td>rice</td>\n    </tr>\n    <tr>\n      <th>1</th>\n      <td>85</td>\n      <td>58</td>\n      <td>41</td>\n      <td>21.770462</td>\n      <td>80.319644</td>\n      <td>7.038096</td>\n      <td>226.655537</td>\n      <td>rice</td>\n    </tr>\n    <tr>\n      <th>2</th>\n      <td>60</td>\n      <td>55</td>\n      <td>44</td>\n      <td>23.004459</td>\n      <td>82.320763</td>\n      <td>7.840207</td>\n      <td>263.964248</td>\n      <td>rice</td>\n    </tr>\n    <tr>\n      <th>3</th>\n      <td>74</td>\n      <td>35</td>\n      <td>40</td>\n      <td>26.491096</td>\n      <td>80.158363</td>\n      <td>6.980401</td>\n      <td>242.864034</td>\n      <td>rice</td>\n    </tr>\n    <tr>\n      <th>4</th>\n      <td>78</td>\n      <td>42</td>\n      <td>42</td>\n      <td>20.130175</td>\n      <td>81.604873</td>\n      <td>7.628473</td>\n      <td>262.717340</td>\n      <td>rice</td>\n    </tr>\n    <tr>\n      <th>5</th>\n      <td>69</td>\n      <td>37</td>\n      <td>42</td>\n      <td>23.058049</td>\n      <td>83.370118</td>\n      <td>7.073454</td>\n      <td>251.055000</td>\n      <td>rice</td>\n    </tr>\n    <tr>\n      <th>6</th>\n      <td>69</td>\n      <td>55</td>\n      <td>38</td>\n      <td>22.708838</td>\n      <td>82.639414</td>\n      <td>5.700806</td>\n      <td>271.324860</td>\n      <td>rice</td>\n    </tr>\n    <tr>\n      <th>7</th>\n      <td>94</td>\n      <td>53</td>\n      <td>40</td>\n      <td>20.277744</td>\n      <td>82.894086</td>\n      <td>5.718627</td>\n      <td>241.974195</td>\n      <td>rice</td>\n    </tr>\n    <tr>\n      <th>8</th>\n      <td>89</td>\n      <td>54</td>\n      <td>38</td>\n      <td>24.515881</td>\n      <td>83.535216</td>\n      <td>6.685346</td>\n      <td>230.446236</td>\n      <td>rice</td>\n    </tr>\n    <tr>\n      <th>9</th>\n      <td>68</td>\n      <td>58</td>\n      <td>38</td>\n      <td>23.223974</td>\n      <td>83.033227</td>\n      <td>6.336254</td>\n      <td>221.209196</td>\n      <td>rice</td>\n    </tr>\n  </tbody>\n</table>\n</div>"
     },
     "execution_count": 13,
     "metadata": {},
     "output_type": "execute_result"
    }
   ],
   "source": [
    "data = pd.read_csv('Crop_recommendation.csv')\n",
    "data.head(10)"
   ],
   "metadata": {
    "collapsed": false,
    "ExecuteTime": {
     "end_time": "2023-07-10T19:27:55.478861700Z",
     "start_time": "2023-07-10T19:27:55.418132600Z"
    }
   }
  },
  {
   "cell_type": "markdown",
   "source": [
    "**3. Renomeei as colunas pra facilitar a interpretação.**"
   ],
   "metadata": {
    "collapsed": false
   }
  },
  {
   "cell_type": "code",
   "execution_count": 14,
   "outputs": [
    {
     "data": {
      "text/plain": "   nitrogen  phosphor  potassium  temperature   humidity        ph  \\\n0        90        42         43    20.879744  82.002744  6.502985   \n1        85        58         41    21.770462  80.319644  7.038096   \n2        60        55         44    23.004459  82.320763  7.840207   \n3        74        35         40    26.491096  80.158363  6.980401   \n4        78        42         42    20.130175  81.604873  7.628473   \n5        69        37         42    23.058049  83.370118  7.073454   \n6        69        55         38    22.708838  82.639414  5.700806   \n7        94        53         40    20.277744  82.894086  5.718627   \n8        89        54         38    24.515881  83.535216  6.685346   \n9        68        58         38    23.223974  83.033227  6.336254   \n\n     rainfall crop_label  \n0  202.935536       rice  \n1  226.655537       rice  \n2  263.964248       rice  \n3  242.864034       rice  \n4  262.717340       rice  \n5  251.055000       rice  \n6  271.324860       rice  \n7  241.974195       rice  \n8  230.446236       rice  \n9  221.209196       rice  ",
      "text/html": "<div>\n<style scoped>\n    .dataframe tbody tr th:only-of-type {\n        vertical-align: middle;\n    }\n\n    .dataframe tbody tr th {\n        vertical-align: top;\n    }\n\n    .dataframe thead th {\n        text-align: right;\n    }\n</style>\n<table border=\"1\" class=\"dataframe\">\n  <thead>\n    <tr style=\"text-align: right;\">\n      <th></th>\n      <th>nitrogen</th>\n      <th>phosphor</th>\n      <th>potassium</th>\n      <th>temperature</th>\n      <th>humidity</th>\n      <th>ph</th>\n      <th>rainfall</th>\n      <th>crop_label</th>\n    </tr>\n  </thead>\n  <tbody>\n    <tr>\n      <th>0</th>\n      <td>90</td>\n      <td>42</td>\n      <td>43</td>\n      <td>20.879744</td>\n      <td>82.002744</td>\n      <td>6.502985</td>\n      <td>202.935536</td>\n      <td>rice</td>\n    </tr>\n    <tr>\n      <th>1</th>\n      <td>85</td>\n      <td>58</td>\n      <td>41</td>\n      <td>21.770462</td>\n      <td>80.319644</td>\n      <td>7.038096</td>\n      <td>226.655537</td>\n      <td>rice</td>\n    </tr>\n    <tr>\n      <th>2</th>\n      <td>60</td>\n      <td>55</td>\n      <td>44</td>\n      <td>23.004459</td>\n      <td>82.320763</td>\n      <td>7.840207</td>\n      <td>263.964248</td>\n      <td>rice</td>\n    </tr>\n    <tr>\n      <th>3</th>\n      <td>74</td>\n      <td>35</td>\n      <td>40</td>\n      <td>26.491096</td>\n      <td>80.158363</td>\n      <td>6.980401</td>\n      <td>242.864034</td>\n      <td>rice</td>\n    </tr>\n    <tr>\n      <th>4</th>\n      <td>78</td>\n      <td>42</td>\n      <td>42</td>\n      <td>20.130175</td>\n      <td>81.604873</td>\n      <td>7.628473</td>\n      <td>262.717340</td>\n      <td>rice</td>\n    </tr>\n    <tr>\n      <th>5</th>\n      <td>69</td>\n      <td>37</td>\n      <td>42</td>\n      <td>23.058049</td>\n      <td>83.370118</td>\n      <td>7.073454</td>\n      <td>251.055000</td>\n      <td>rice</td>\n    </tr>\n    <tr>\n      <th>6</th>\n      <td>69</td>\n      <td>55</td>\n      <td>38</td>\n      <td>22.708838</td>\n      <td>82.639414</td>\n      <td>5.700806</td>\n      <td>271.324860</td>\n      <td>rice</td>\n    </tr>\n    <tr>\n      <th>7</th>\n      <td>94</td>\n      <td>53</td>\n      <td>40</td>\n      <td>20.277744</td>\n      <td>82.894086</td>\n      <td>5.718627</td>\n      <td>241.974195</td>\n      <td>rice</td>\n    </tr>\n    <tr>\n      <th>8</th>\n      <td>89</td>\n      <td>54</td>\n      <td>38</td>\n      <td>24.515881</td>\n      <td>83.535216</td>\n      <td>6.685346</td>\n      <td>230.446236</td>\n      <td>rice</td>\n    </tr>\n    <tr>\n      <th>9</th>\n      <td>68</td>\n      <td>58</td>\n      <td>38</td>\n      <td>23.223974</td>\n      <td>83.033227</td>\n      <td>6.336254</td>\n      <td>221.209196</td>\n      <td>rice</td>\n    </tr>\n  </tbody>\n</table>\n</div>"
     },
     "execution_count": 14,
     "metadata": {},
     "output_type": "execute_result"
    }
   ],
   "source": [
    "data.columns = ['nitrogen', 'phosphor', 'potassium', 'temperature', 'humidity', 'ph', 'rainfall', 'crop_label']\n",
    "data.head(10)"
   ],
   "metadata": {
    "collapsed": false,
    "ExecuteTime": {
     "end_time": "2023-07-10T19:27:55.492448Z",
     "start_time": "2023-07-10T19:27:55.478861700Z"
    }
   }
  },
  {
   "cell_type": "markdown",
   "source": [
    "**4. Verifiquei se há valores nulos e duplicados.**"
   ],
   "metadata": {
    "collapsed": false
   }
  },
  {
   "cell_type": "code",
   "execution_count": 15,
   "outputs": [
    {
     "name": "stdout",
     "output_type": "stream",
     "text": [
      "Valores duplicados:  103\n",
      "Valores nulos:  nitrogen       0\n",
      "phosphor       0\n",
      "potassium      0\n",
      "temperature    0\n",
      "humidity       0\n",
      "ph             0\n",
      "rainfall       0\n",
      "crop_label     0\n",
      "dtype: int64\n"
     ]
    }
   ],
   "source": [
    "nulos = data.isnull().sum()\n",
    "duplos = data.duplicated().sum()\n",
    "print('Valores duplicados: ', duplos)\n",
    "print('Valores nulos: ', nulos)"
   ],
   "metadata": {
    "collapsed": false,
    "ExecuteTime": {
     "end_time": "2023-07-10T19:27:55.505583300Z",
     "start_time": "2023-07-10T19:27:55.492448Z"
    }
   }
  },
  {
   "cell_type": "markdown",
   "source": [
    "**5. Transformei a coluna 'crop_label' em numérica utilizando o LabelEncoder.**"
   ],
   "metadata": {
    "collapsed": false
   }
  },
  {
   "cell_type": "code",
   "execution_count": 16,
   "outputs": [],
   "source": [
    "data.to_csv('data_num.csv', index=False)"
   ],
   "metadata": {
    "collapsed": false,
    "ExecuteTime": {
     "end_time": "2023-07-10T19:27:55.600819600Z",
     "start_time": "2023-07-10T19:27:55.505583300Z"
    }
   }
  },
  {
   "cell_type": "markdown",
   "source": [
    "### Dados prontos para análise exploratória."
   ],
   "metadata": {
    "collapsed": false
   }
  }
 ],
 "metadata": {
  "kernelspec": {
   "display_name": "Python 3",
   "language": "python",
   "name": "python3"
  },
  "language_info": {
   "codemirror_mode": {
    "name": "ipython",
    "version": 2
   },
   "file_extension": ".py",
   "mimetype": "text/x-python",
   "name": "python",
   "nbconvert_exporter": "python",
   "pygments_lexer": "ipython2",
   "version": "2.7.6"
  }
 },
 "nbformat": 4,
 "nbformat_minor": 0
}
